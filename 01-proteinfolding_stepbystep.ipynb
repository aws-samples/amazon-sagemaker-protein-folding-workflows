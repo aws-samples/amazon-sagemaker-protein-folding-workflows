{
 "cells": [
  {
   "cell_type": "markdown",
   "id": "c15c7627-b920-4f88-ac44-a0e652b30deb",
   "metadata": {},
   "source": [
    "## Building docker container images\n",
    "\n",
    "To build the Dockerfile inside SageMaker Studio using sagemaker-studio-image-build cli, you also need the following policy attached to your execution role. See more in [Using the Amazon SageMaker Studio Image Build CLI to build container images from your Studio notebooks](https://aws.amazon.com/blogs/machine-learning/using-the-amazon-sagemaker-studio-image-build-cli-to-build-container-images-from-your-studio-notebooks/)."
   ]
  },
  {
   "cell_type": "code",
   "execution_count": null,
   "id": "2f9bae19-6386-4ce4-b2e0-5f0711463607",
   "metadata": {
    "scrolled": true,
    "tags": []
   },
   "outputs": [],
   "source": [
    "!pip install -q sagemaker-studio-image-build"
   ]
  },
  {
   "cell_type": "code",
   "execution_count": null,
   "id": "1af046cc-3f83-463f-811b-9e977d7a5010",
   "metadata": {
    "tags": []
   },
   "outputs": [],
   "source": [
    "!sm-docker build -h"
   ]
  },
  {
   "cell_type": "code",
   "execution_count": null,
   "id": "09908616-cffe-4bf2-9b11-011c22c982fb",
   "metadata": {
    "scrolled": true,
    "tags": []
   },
   "outputs": [],
   "source": [
    "# need testing\n",
    "# %%sh\n",
    "!sm-docker build . --repository sagemaker-studio-alphafold:processor --file ./docker/Dockerfile.processor"
   ]
  },
  {
   "cell_type": "code",
   "execution_count": null,
   "id": "1dfcb4dc-f3a2-4e63-bc61-ee7e2c621f50",
   "metadata": {
    "scrolled": true,
    "tags": []
   },
   "outputs": [],
   "source": [
    "!cd docker;sm-docker build . --repository sagemaker-studio-alphafold:estimator --file ./Dockerfile.estimator \\\n",
    "                   --compute-type BUILD_GENERAL1_MEDIUM\n",
    "# small causes out of memory"
   ]
  },
  {
   "cell_type": "markdown",
   "id": "7eb66a0d-6b8c-4201-aa5f-5e5ddef51b13",
   "metadata": {
    "tags": []
   },
   "source": [
    "## Setup SageMaker Session & User Environment Inputs"
   ]
  },
  {
   "cell_type": "code",
   "execution_count": null,
   "id": "93dbf8a6-57b3-49a1-9348-159019892049",
   "metadata": {
    "tags": []
   },
   "outputs": [],
   "source": [
    "import time\n",
    "from time import gmtime, strftime\n",
    "import boto3\n",
    "import sagemaker\n",
    "from sagemaker import get_execution_role\n",
    "from sagemaker.inputs import FileSystemInput\n",
    "from sagemaker.estimator import Estimator\n",
    "\n",
    "client = boto3.client(\"sts\")\n",
    "account=client.get_caller_identity()[\"Account\"]\n",
    "\n",
    "sess=sagemaker.Session()\n",
    "region = boto3.session.Session().region_name\n",
    "role = get_execution_role()\n",
    "default_bucket=sess.default_bucket()"
   ]
  },
  {
   "cell_type": "code",
   "execution_count": null,
   "id": "9bfee974-7aba-4f75-931d-97c88bccfa5d",
   "metadata": {
    "tags": []
   },
   "outputs": [],
   "source": [
    "#User Input - Static Envrionment Variables\n",
    "\n",
    "prefix='xxxxxx'\n",
    "\n",
    "# Specify FSx Lustre file system id.\n",
    "file_system_id = 'xxxxxx'\n",
    "# Specify FSx Lustre mount id.\n",
    "fsx_mount_id = 'xxxxxx' \n",
    "\n",
    "# The same VPC/subnet where FSx for Lustre is hosted\n",
    "vpc_subnet_ids = ['xxxxxx'] \n",
    "security_group_ids = ['xxxxxx']\n",
    "\n",
    "#Below variables do not need to be changed if using default settings\n",
    "file_system_access_mode = 'ro'\n",
    "file_system_type = 'FSxLustre'\n",
    "file_system_directory_path = f'/{fsx_mount_id}/{prefix}/alphafold-genetic-db'"
   ]
  },
  {
   "cell_type": "markdown",
   "id": "5cde4608-3263-48b7-af26-139d00b492ea",
   "metadata": {
    "tags": []
   },
   "source": [
    "## Prepare protein sequence fasta files"
   ]
  },
  {
   "cell_type": "code",
   "execution_count": null,
   "id": "28898cf1-c131-4e3d-a557-8654b48decd1",
   "metadata": {
    "tags": []
   },
   "outputs": [],
   "source": [
    "!mkdir ./sequence_input/\n",
    "!curl 'https://www.predictioncenter.org/casp14/target.cgi?target=T1030&view=sequence' > ./sequence_input/T1030.fasta "
   ]
  },
  {
   "cell_type": "markdown",
   "id": "4513ffee-5cd1-4171-bdfb-bac186fcdc08",
   "metadata": {},
   "source": [
    "## Run MSA with genetic db on FSx for Lustre"
   ]
  },
  {
   "cell_type": "code",
   "execution_count": null,
   "id": "9306ab4e-bffe-4ee8-b684-095e7d7d63dd",
   "metadata": {
    "tags": []
   },
   "outputs": [],
   "source": [
    "!pygmentize source_dir/run_create_alignment.sh"
   ]
  },
  {
   "cell_type": "code",
   "execution_count": null,
   "id": "86c86b22-054b-4e1d-be38-4263753b76ec",
   "metadata": {},
   "outputs": [],
   "source": [
    "alphafold_image_uri=f'{account}.dkr.ecr.{region}.amazonaws.com/sagemaker-studio-alphafold:v2.3.0-estimator'"
   ]
  },
  {
   "cell_type": "code",
   "execution_count": null,
   "id": "ca4a3ec8-e83d-46c3-a99f-095364e64211",
   "metadata": {
    "tags": []
   },
   "outputs": [],
   "source": [
    "genetic_db = FileSystemInput(\n",
    "    file_system_id=file_system_id,\n",
    "    file_system_type=file_system_type,\n",
    "    directory_path=file_system_directory_path,\n",
    "    file_system_access_mode=file_system_access_mode\n",
    ")\n",
    "\n",
    "s3_fasta=sess.upload_data(path='sequence_input/T1030.fasta',\n",
    "                          key_prefix='alphafoldv2/sequence_input')\n",
    "fasta = sagemaker.inputs.TrainingInput(s3_fasta,\n",
    "                                       distribution=\"FullyReplicated\", \n",
    "                                       s3_data_type=\"S3Prefix\",\n",
    "                                       input_mode='File'\n",
    "                                      )\n",
    "\n",
    "data_channels_msa = {\"genetic\": genetic_db, 'fasta': fasta}"
   ]
  },
  {
   "cell_type": "code",
   "execution_count": null,
   "id": "277cce98-29de-4bdb-a9f3-51ddee440354",
   "metadata": {
    "tags": []
   },
   "outputs": [],
   "source": [
    "db_preset='full_dbs'\n",
    "parameters={\n",
    "            'DB_PRESET': db_preset, \n",
    "            'FASTA_SUFFIX': 'T1030.fasta',\n",
    "            'MAX_TEMPLATE_DATE': '2020-05-14',\n",
    "            'MODEL_PRESET': 'monomer',\n",
    "            'NUM_MULTIMER_PREDICTIONS_PER_MODEL': '5',\n",
    "           }\n",
    "\n",
    "output_path='s3://%s/%s/job-output/'%(default_bucket, prefix)\n",
    "\n",
    "run_msa = Estimator( \n",
    "                      source_dir='./source_dir',\n",
    "                      entry_point='run_create_alignment.sh',\n",
    "                      role=role,\n",
    "                      image_uri=alphafold_image_uri,\n",
    "                      instance_count=1,\n",
    "                      instance_type='ml.m5.4xlarge',\n",
    "                      volume_size=3000,\n",
    "                      sagemaker_session=sess,\n",
    "                      subnets=vpc_subnet_ids,\n",
    "                      security_group_ids=security_group_ids,\n",
    "                      debugger_hook_config=False,\n",
    "                      base_job_name='msa-default-run',\n",
    "                      hyperparameters=parameters,\n",
    "                      enable_sagemaker_metrics=True,\n",
    "                      output_path=output_path)"
   ]
  },
  {
   "cell_type": "code",
   "execution_count": null,
   "id": "be5c4b52-d69e-4445-818f-920e915ef65b",
   "metadata": {
    "tags": []
   },
   "outputs": [],
   "source": [
    "run_msa.fit(inputs=data_channels_msa,\n",
    "              wait=False,\n",
    "              )"
   ]
  },
  {
   "cell_type": "markdown",
   "id": "8d07405b-8a47-43f0-b9bb-3c4abc26af25",
   "metadata": {
    "tags": []
   },
   "source": [
    "## Run Alphafold with MSA Output"
   ]
  },
  {
   "cell_type": "code",
   "execution_count": null,
   "id": "1baecdfa-b77a-4dc5-a8b3-3617f5d63c17",
   "metadata": {
    "tags": []
   },
   "outputs": [],
   "source": [
    "!pygmentize source_dir/run_alphafold.sh"
   ]
  },
  {
   "cell_type": "code",
   "execution_count": null,
   "id": "1a54a294-90c3-4188-81a3-0d826a0196cd",
   "metadata": {
    "tags": []
   },
   "outputs": [],
   "source": [
    "msa = sagemaker.inputs.TrainingInput(run_msa.model_data,\n",
    "                                     distribution=\"FullyReplicated\", \n",
    "                                     s3_data_type=\"S3Prefix\",\n",
    "                                     input_mode='File'\n",
    "                                    )\n",
    "\n",
    "data_channels_alphafold = {\"genetic\": genetic_db, 'fasta': fasta, 'msa': msa}\n",
    "print(data_channels_alphafold)"
   ]
  },
  {
   "cell_type": "code",
   "execution_count": null,
   "id": "ff2e769b-a349-435f-bf05-23fc0653f993",
   "metadata": {
    "tags": []
   },
   "outputs": [],
   "source": [
    "instance_type='ml.g5.2xlarge'\n",
    "instance_count=1\n",
    "    \n",
    "db_preset='full_dbs'\n",
    "parameters={\n",
    "            'DB_PRESET': db_preset, # <full_dbs|reduced_dbs>\n",
    "            'FASTA_SUFFIX': 'T1030.fasta',\n",
    "            'MAX_TEMPLATE_DATE': '2020-05-14',\n",
    "            'MODEL_PRESET': 'monomer',\n",
    "            'NUM_MULTIMER_PREDICTIONS_PER_MODEL': '5',\n",
    "           }\n",
    "output_path='s3://%s/%s/job-output/'%(default_bucket, prefix)\n",
    "\n",
    "estimator_alphafold = Estimator(\n",
    "                      source_dir='source_dir',\n",
    "                      entry_point='run_alphafold.sh',\n",
    "                      role=role,\n",
    "                      image_uri=alphafold_image_uri,\n",
    "                      instance_count=instance_count,\n",
    "                      instance_type=instance_type,\n",
    "                      sagemaker_session=sess,\n",
    "                      subnets=vpc_subnet_ids,\n",
    "                      security_group_ids=security_group_ids,\n",
    "                      debugger_hook_config=False,\n",
    "                      base_job_name='alphafold-run-fsx',\n",
    "                      hyperparameters=parameters,\n",
    "                      keep_alive_period_in_seconds=3600,\n",
    "                      max_run=172800,\n",
    "                      enable_sagemaker_metrics=True,\n",
    "                      code_location=output_path,\n",
    "                      output_path=output_path)"
   ]
  },
  {
   "cell_type": "code",
   "execution_count": null,
   "id": "ed3b1acb-1131-4689-a328-75169269f903",
   "metadata": {
    "tags": []
   },
   "outputs": [],
   "source": [
    "estimator_alphafold.fit(inputs=data_channels_alphafold,\n",
    "              wait=False,\n",
    "              )"
   ]
  },
  {
   "cell_type": "markdown",
   "id": "9b0d2de4-f12b-473f-9feb-e56e574daa1e",
   "metadata": {},
   "source": [
    "# Run OpenFold with MSA Output"
   ]
  },
  {
   "cell_type": "code",
   "execution_count": null,
   "id": "ee08afd6-29e0-409c-93c8-81016394ef58",
   "metadata": {},
   "outputs": [],
   "source": [
    "!git clone -b v1.0.1 --single-branch https://github.com/aqlaboratory/openfold.git"
   ]
  },
  {
   "cell_type": "code",
   "execution_count": null,
   "id": "c2c35ef9-2a73-4d0b-8f4a-05cc3d2a0776",
   "metadata": {},
   "outputs": [],
   "source": [
    "!cd ~/openfold\n",
    "!sm-docker build . --repository sagemaker-studio-openfold:base-v1.0.1 --file ./Dockerfile --compute-type BUILD_GENERAL1_MEDIUM"
   ]
  },
  {
   "cell_type": "code",
   "execution_count": null,
   "id": "c1691891-2aef-4102-ba24-f0c3f070eb4e",
   "metadata": {
    "scrolled": true,
    "tags": []
   },
   "outputs": [],
   "source": [
    "!cd ~/protein-folding-on-sagemaker/docker\n",
    "!sm-docker build . --repository sagemaker-studio-openfold:v1.0.1 --file ./Dockerfile.openfold "
   ]
  },
  {
   "cell_type": "code",
   "execution_count": null,
   "id": "bae462c6-b644-4b58-ada4-e2a5d782203d",
   "metadata": {
    "tags": []
   },
   "outputs": [],
   "source": [
    "openfold_image_uri=f'{account}.dkr.ecr.{region}.amazonaws.com/sagemaker-studio-openfold:v1.0.1'"
   ]
  },
  {
   "cell_type": "code",
   "execution_count": null,
   "id": "dacddb10-a58b-4d51-bdf8-0c2deae575cb",
   "metadata": {
    "tags": []
   },
   "outputs": [],
   "source": [
    "!pygmentize source_dir/run_openfold.sh"
   ]
  },
  {
   "cell_type": "code",
   "execution_count": null,
   "id": "71b3e6ae-dfe9-44f5-b441-bd94801afac3",
   "metadata": {
    "tags": []
   },
   "outputs": [],
   "source": [
    "# TODO: show how to download the openfold_params/ from RODA\n",
    "s3_param=sess.upload_data(path='./source_dir/finetuning_ptm_2.pt',\n",
    "                          key_prefix=f'{prefix}/openfold_params')\n",
    "param = sagemaker.inputs.TrainingInput(s3_param,\n",
    "                                       distribution=\"FullyReplicated\", \n",
    "                                       s3_data_type=\"S3Prefix\",\n",
    "                                       input_mode='File'\n",
    "                                      )\n",
    "\n",
    "data_channels_openfold = {'genetic': genetic_db, \n",
    "                          'fasta': fasta, \n",
    "                          'param': param,\n",
    "                          'msa' : msa\n",
    "                         }"
   ]
  },
  {
   "cell_type": "code",
   "execution_count": null,
   "id": "f1ed76ff-5bcd-4129-9ddf-897756d5b556",
   "metadata": {
    "tags": []
   },
   "outputs": [],
   "source": [
    "instance_type='ml.g5.2xlarge'\n",
    "instance_count=1\n",
    "\n",
    "db_preset='full_dbs'\n",
    "parameters={\n",
    "            'DB_PRESET': db_preset, # <full_dbs|reduced_dbs>\n",
    "           }\n",
    "output_path='s3://%s/%s/job-output'%(default_bucket, prefix)\n",
    "\n",
    "estimator_openfold = Estimator(source_dir='./source_dir',\n",
    "                              entry_point='run_openfold.sh',\n",
    "                              role=role,\n",
    "                              image_uri=openfold_image_uri,\n",
    "                              instance_count=instance_count,\n",
    "                              instance_type=instance_type,\n",
    "                              sagemaker_session=sess,\n",
    "                              subnets=vpc_subnet_ids,\n",
    "                              security_group_ids=security_group_ids,\n",
    "                              debugger_hook_config=False,\n",
    "                              base_job_name='openfold-run-fsx',\n",
    "                              hyperparameters=parameters,\n",
    "                              keep_alive_period_in_seconds=3600,\n",
    "                              enable_sagemaker_metrics=True,\n",
    "                              output_path=output_path,\n",
    "                              code_location=output_path)"
   ]
  },
  {
   "cell_type": "code",
   "execution_count": null,
   "id": "99a32284-8958-4ca6-b4a3-0385d6df4648",
   "metadata": {
    "tags": []
   },
   "outputs": [],
   "source": [
    "estimator_openfold.fit(inputs=data_channels_openfold,\n",
    "                       wait=False,\n",
    "                      )"
   ]
  },
  {
   "attachments": {},
   "cell_type": "markdown",
   "id": "dfae7bbe-5f4b-49d2-8093-d2093bbf159d",
   "metadata": {},
   "source": [
    "## Accessing predicted structure and visualize\n",
    "Ref: https://github.com/aws-solutions-library-samples/aws-batch-arch-for-protein-folding/blob/0a0a62faa0d407f4856e0865df4c8e8ec6d26290/src/batchfold/utils/utils.py#LL102C5-L102C5"
   ]
  },
  {
   "cell_type": "code",
   "execution_count": null,
   "id": "ffba1412-f414-4a8f-91c3-ea8cc2f19323",
   "metadata": {},
   "outputs": [],
   "source": [
    "!pip install -q py3dmol"
   ]
  },
  {
   "cell_type": "code",
   "execution_count": null,
   "id": "0a652c1f-6b2e-4ad2-b369-630039dd25c7",
   "metadata": {},
   "outputs": [],
   "source": [
    "!pip install dm-tree"
   ]
  },
  {
   "cell_type": "code",
   "execution_count": null,
   "id": "d73ec8f0-0602-40f1-a4be-60204997b02d",
   "metadata": {},
   "outputs": [],
   "source": [
    "!pip install biopython"
   ]
  },
  {
   "cell_type": "code",
   "execution_count": null,
   "id": "23fb5c63-f6a9-4269-8fd9-065f922c46d8",
   "metadata": {
    "tags": []
   },
   "outputs": [],
   "source": [
    "import sys, pymol\n",
    "from pymol import cmd, stored\n",
    "import py3Dmol\n",
    "import matplotlib.pyplot as plt\n",
    "\n",
    "from Bio.PDB import PDBParser, PDBIO\n",
    "import io\n",
    "from source_dir import protein\n",
    "from source_dir import residue_constants"
   ]
  },
  {
   "cell_type": "code",
   "execution_count": null,
   "id": "c1b962e6-9e96-4f73-8e1c-e951cd9110d8",
   "metadata": {},
   "outputs": [],
   "source": [
    "def overwrite_b_factors(pdb_str: str, bfactors: np.ndarray) -> str:\n",
    "    \"\"\"Overwrites the B-factors in pdb_str with contents of bfactors array.\n",
    "\n",
    "    Args:\n",
    "      pdb_str: An input PDB string.\n",
    "      bfactors: A numpy array with shape [1, n_residues, 37]. We assume that the\n",
    "        B-factors are per residue; i.e. that the nonzero entries are identical in\n",
    "        [0, i, :].\n",
    "\n",
    "    Returns:\n",
    "      A new PDB string with the B-factors replaced.\n",
    "    \"\"\"\n",
    "    if bfactors.shape[-1] != residue_constants.atom_type_num:\n",
    "        raise ValueError(\n",
    "            f\"Invalid final dimension size for bfactors: {bfactors.shape[-1]}.\"\n",
    "        )\n",
    "\n",
    "    parser = PDBParser(QUIET=True)\n",
    "    handle = io.StringIO(pdb_str)\n",
    "    structure = parser.get_structure(\"\", handle)\n",
    "\n",
    "    curr_resid = (\"\", \"\", \"\")\n",
    "    idx = -1\n",
    "    for atom in structure.get_atoms():\n",
    "        atom_resid = atom.parent.get_id()\n",
    "        if atom_resid != curr_resid:\n",
    "            idx += 1\n",
    "            if idx >= bfactors.shape[0]:\n",
    "                raise ValueError(\n",
    "                    \"Index into bfactors exceeds number of residues. \"\n",
    "                    \"B-factors shape: {shape}, idx: {idx}.\"\n",
    "                )\n",
    "        curr_resid = atom_resid\n",
    "        atom.bfactor = bfactors[idx, residue_constants.atom_order[\"CA\"]]\n",
    "\n",
    "    new_pdb = io.StringIO()\n",
    "    pdb_io = PDBIO()\n",
    "    pdb_io.set_structure(structure)\n",
    "    pdb_io.save(new_pdb)\n",
    "    return new_pdb.getvalue()\n",
    "\n",
    "def plot_banded_pdb(pdb_file, show_sidechains = False, width = 800, height = 600):\n",
    "    with open(pdb_file) as f:\n",
    "            best_pdb = f.read()\n",
    "    target_protein = protein.from_pdb_string(best_pdb)\n",
    "    plddt_list = target_protein.b_factors[:,0]\n",
    "    atom_mask = target_protein.atom_mask\n",
    "    banded_b_factors = []\n",
    "    for plddt in plddt_list:\n",
    "        for idx, (min_val, max_val, _) in enumerate(residue_constants.PLDDT_BANDS):\n",
    "            if plddt >= min_val and plddt <= max_val:\n",
    "                banded_b_factors.append(idx)\n",
    "                break\n",
    "\n",
    "    banded_b_factors = (\n",
    "            np.array(banded_b_factors)[:, None] * atom_mask\n",
    "    )\n",
    "\n",
    "    to_visualize_pdb = overwrite_b_factors(best_pdb, banded_b_factors)\n",
    "    # Color the structure by per-residue pLDDT\n",
    "    color_map = {i: bands[2] for i, bands in enumerate(residue_constants.PLDDT_BANDS)}\n",
    "    view = py3Dmol.view(width, height)\n",
    "    view.addModelsAsFrames(to_visualize_pdb)\n",
    "    style = {\"cartoon\": {\"colorscheme\": {\"prop\": \"b\", \"map\": color_map}}}\n",
    "    if show_sidechains:\n",
    "        style[\"stick\"] = {}\n",
    "    view.setStyle({\"model\": -1}, style)\n",
    "    view.zoomTo()\n",
    "    view.show()\n",
    "    return None\n",
    "\n",
    "def plot_plddt_legend():\n",
    "    \"\"\"Plots the legend for pLDDT.\"\"\"\n",
    "\n",
    "    thresh = [\n",
    "        \"Very low (pLDDT < 50)\",\n",
    "        \"Low (70 > pLDDT > 50)\",\n",
    "        \"Confident (90 > pLDDT > 70)\",\n",
    "        \"Very high (pLDDT > 90)\",\n",
    "    ]\n",
    "\n",
    "    colors = [x[2] for x in residue_constants.PLDDT_BANDS]\n",
    "\n",
    "    plt.figure(figsize=(2, 2))\n",
    "    for c in colors:\n",
    "        plt.bar(0, 0, color=c)\n",
    "    plt.legend(thresh, frameon=False, loc=\"center\", fontsize=20)\n",
    "    plt.xticks([])\n",
    "    plt.yticks([])\n",
    "    ax = plt.gca()\n",
    "    ax.spines[\"right\"].set_visible(False)\n",
    "    ax.spines[\"top\"].set_visible(False)\n",
    "    ax.spines[\"left\"].set_visible(False)\n",
    "    ax.spines[\"bottom\"].set_visible(False)\n",
    "    plt.title(\"Model Confidence\", fontsize=20, pad=20)\n",
    "    return plt"
   ]
  },
  {
   "cell_type": "markdown",
   "id": "b424a829-5dfc-42c1-8af2-d59b26e709c9",
   "metadata": {
    "tags": []
   },
   "source": [
    "### Alphafold output"
   ]
  },
  {
   "cell_type": "code",
   "execution_count": null,
   "id": "305c3fd7-604e-4ec2-bf26-10636a4030e9",
   "metadata": {
    "tags": []
   },
   "outputs": [],
   "source": [
    "estimator_alphafold.model_data"
   ]
  },
  {
   "cell_type": "code",
   "execution_count": null,
   "id": "4e69cdd0-a4df-400d-93b6-d102ed1f7a91",
   "metadata": {
    "tags": []
   },
   "outputs": [],
   "source": [
    "!aws s3 cp {estimator_alphafold.model_data} ."
   ]
  },
  {
   "cell_type": "code",
   "execution_count": null,
   "id": "2ce1ca67-2c99-4ea0-86db-36283d15b31f",
   "metadata": {
    "tags": []
   },
   "outputs": [],
   "source": [
    "!tar zxfv model.tar.gz"
   ]
  },
  {
   "cell_type": "code",
   "execution_count": null,
   "id": "34998840-bcdd-46c5-a215-14e28779e6b9",
   "metadata": {
    "tags": []
   },
   "outputs": [],
   "source": [
    "plt=plot_plddt_legend()\n",
    "plt.show()\n",
    "plot_banded_pdb('T1030/ranked_0.pdb')"
   ]
  },
  {
   "cell_type": "markdown",
   "id": "45b8d60d-8ee1-4ba2-8003-b7121a8fb648",
   "metadata": {},
   "source": [
    "### Openfold output"
   ]
  },
  {
   "cell_type": "code",
   "execution_count": null,
   "id": "51966860-1027-4db7-ac70-66270d233649",
   "metadata": {},
   "outputs": [],
   "source": [
    "estimator_openfold.model_data"
   ]
  },
  {
   "cell_type": "code",
   "execution_count": null,
   "id": "c6c920b0-7559-4411-87d2-6632b978eb3c",
   "metadata": {
    "tags": []
   },
   "outputs": [],
   "source": [
    "!aws s3 cp {estimator_openfold.model_data} openfold_output/model.tar.gz\n",
    "!tar zxfv openfold_output/model.tar.gz -C openfold_output/"
   ]
  },
  {
   "cell_type": "code",
   "execution_count": null,
   "id": "0d5bc6f3-c2e6-4739-9408-a6b8da13c212",
   "metadata": {
    "tags": []
   },
   "outputs": [],
   "source": [
    "plt=plot_plddt_legend()\n",
    "plt.show()\n",
    "plot_banded_pdb('openfold_output/predictions/T1030_model_1_ptm_relaxed.pdb')"
   ]
  },
  {
   "attachments": {},
   "cell_type": "markdown",
   "id": "e02bd6b8-a942-41f3-a042-7ee6db147121",
   "metadata": {},
   "source": [
    "### Compare against the structure in RCSB \n",
    "Ref: https://notebook.community/aloctavodia/SBioA/English/04_Comparing_structures"
   ]
  },
  {
   "cell_type": "code",
   "execution_count": null,
   "id": "60cec598-8591-46ef-af4e-476d007404dc",
   "metadata": {
    "tags": []
   },
   "outputs": [],
   "source": [
    "# get T1030 structure from RCSB\n",
    "!curl https://files.rcsb.org/view/6POO.pdb >> sequence_input/6POO.pdb"
   ]
  },
  {
   "cell_type": "code",
   "execution_count": null,
   "id": "bd00fdfc-4fdd-4c6f-8cd7-aff86f66f9cb",
   "metadata": {
    "tags": []
   },
   "outputs": [],
   "source": [
    "import pymol\n",
    "from pymol import cmd, stored\n",
    "import numpy as np\n",
    "\n",
    "def rmsd_cur(mol0, mol1, sel='*'):\n",
    "    \"\"\"\n",
    "    Computes the root mean square deviation from the current\n",
    "    coordinates of two pairs of equivalent atoms. Does not\n",
    "    perform a superposition.\n",
    "    \n",
    "    Parameters\n",
    "    ----------\n",
    "    mol0 : PyMOL object\n",
    "    mol1 : PyMOL object\n",
    "    sel  : PyMOL selection, atoms used to compute rmsd.\n",
    "           e.g. use ca+c+n for the backbone\n",
    "    \"\"\"\n",
    "    model0 = cmd.get_model('%s and name %s' % (mol0, sel))\n",
    "    model1 = cmd.get_model('%s and name %s'  % (mol1, sel))\n",
    "    xyz0 = np.array(model0.get_coord_list())\n",
    "    xyz1 = np.array(model1.get_coord_list())\n",
    "    \n",
    "    rmsd = (np.sum((xyz0 - xyz1 )**2)/len(xyz0))**0.5\n",
    "    return rmsd\n",
    "\n",
    "\n",
    "def rmsd_fit(mol0, mol1, sel='*', fit=True):\n",
    "    \"\"\"\n",
    "    Computes the root mean square deviation from two pairs of\n",
    "    equivalent atoms after superposition.\n",
    "    \n",
    "    Parameters\n",
    "    ----------\n",
    "    mol0 : PyMOL object\n",
    "    mol1 : PyMOL object\n",
    "    sel  : PyMOL selection. atoms used to compute rmsd.\n",
    "           e.g. use ca+c+n for the backbone\n",
    "    fit  : bool. If false computes the rmsd after superposition, but without\n",
    "           updating the coordinates\n",
    "           \n",
    "    \"\"\"\n",
    "    xyz0 = np.array(cmd.get_model('%s and name %s' % (mol0, sel)).get_coord_list())\n",
    "    xyz1 = np.array(cmd.get_model('%s and name %s'  % (mol1, sel)).get_coord_list())\n",
    "    \n",
    "    xyz0_all = np.array(cmd.get_model('%s' % mol0).get_coord_list())\n",
    "    xyz1_all = np.array(cmd.get_model('%s'  % mol1).get_coord_list())\n",
    "    \n",
    "    # Translation\n",
    "    X = xyz0 - xyz0.mean(axis=0)\n",
    "    Y = xyz1 - xyz1.mean(axis=0)\n",
    "    # Covariation matrix\n",
    "    Cov_matrix = np.dot(Y.T, X)\n",
    "    # Optimal rotation matrix\n",
    "    U, S, Wt = np.linalg.svd(Cov_matrix)\n",
    "    # Create Rotation matrix R\n",
    "    R = np.dot(U, Wt)\n",
    "    # Ensure a right-handed coordinate system\n",
    "    if np.linalg.det(R) < 0.:\n",
    "        S[-1] = -S[-1]\n",
    "        Wt[-1] *= -1\n",
    "        R = np.dot(U, Wt) \n",
    "    if fit:\n",
    "        # center the first molecule\n",
    "        stored.sel0 = list(xyz0_all - xyz0.mean(axis=0))\n",
    "        # rotate and translate the second molecule\n",
    "        stored.sel1 = list(np.dot((xyz1_all - xyz1.mean(0)), R))\n",
    "        #update the changes to the coordinates \n",
    "        cmd.alter_state(1, mol0,\"(x,y,z)=stored.sel0.pop(0)\")\n",
    "        cmd.alter_state(1, mol1,\"(x,y,z)=stored.sel1.pop(0)\")\n",
    "\n",
    "    # We compute the RMSD after superposition by using the matrix S. The advantage is \n",
    "    # we do not need to actually do the superposition before computing the RMSD.\n",
    "    #rmsd = (np.exp(np.log(np.sum(X ** 2) + np.sum(Y ** 2)) - 2.0 * np.log(np.sum(S)))/len(X))**0.5\n",
    "    rmsd = ((np.sum(X ** 2) + np.sum(Y ** 2) - 2.0 * np.sum(S))/len(X))**0.5\n",
    "    # scales and translates the window to show a selection\n",
    "    cmd.zoom()\n",
    "    return rmsd\n",
    "\n",
    "\n",
    "def tm_score(mol0, mol1, sel='*'): #Check if TM-align use all atoms!\n",
    "    \"\"\"\n",
    "    Compute TM-score between two set of coordinates\n",
    "    \n",
    "    Parameters\n",
    "    ----------\n",
    "    mol0 : PyMOL object\n",
    "    mol1 : PyMOL object\n",
    "    sel  : PyMOL selection, atoms used to compute rmsd.\n",
    "           e.g. use ca+c+n for the backbone\n",
    "    \"\"\"\n",
    "    xyz0 = np.array(cmd.get_model('%s and name %s' % (mol0, sel)).get_coord_list())\n",
    "    xyz1 = np.array(cmd.get_model('%s and name %s'  % (mol1, sel)).get_coord_list())\n",
    "    \n",
    "    L = len(xyz0)\n",
    "    # d0 is less than 0.5 for L < 22 \n",
    "    # and nan for L < 15 (root of a negative number)\n",
    "    d0 = 1.24 * np.power(L - 15, 1/3) - 1.8\n",
    "    d0 = max(0.5, d0) \n",
    "\n",
    "    # compute the distance for each pair of atoms\n",
    "    di = np.sum((xyz0 - xyz1) ** 2, 1) # sum along first axis\n",
    "    return np.sum(1 / (1 + (di / d0) ** 2)) / L"
   ]
  },
  {
   "cell_type": "code",
   "execution_count": null,
   "id": "9621868c-936a-44e3-9583-f1774180e466",
   "metadata": {
    "tags": []
   },
   "outputs": [],
   "source": [
    "cmd.load('T1030/ranked_0.pdb')\n",
    "cmd.load('sequence_input/6POO.pdb')\n",
    "cmd.remove('not polymer or hydro')\n",
    "object1 = cmd.get_names()[0]\n",
    "object2 = cmd.get_names()[1]\n",
    "print(object1)\n",
    "print(object2)\n",
    "\n",
    "# compute rmsd_cur\n",
    "rmsd = rmsd_cur(object1, object2, sel='ca') #'ca+c+n'\n",
    "print('RMSD: %.2f' % rmsd)\n",
    "\n",
    "# compute rmsd_fit\n",
    "rmsd_sp = rmsd_fit(object1, object2, sel='ca', fit=True)\n",
    "print('RMSD superpositioned: %.2f' % rmsd_sp)\n",
    "\n",
    "# compute TM score\n",
    "tmscore = tm_score(object1, object2, sel='ca')\n",
    "print('TM Score: %.4f' % tmscore)"
   ]
  }
 ],
 "metadata": {
  "availableInstances": [
   {
    "_defaultOrder": 0,
    "_isFastLaunch": true,
    "category": "General purpose",
    "gpuNum": 0,
    "hideHardwareSpecs": false,
    "memoryGiB": 4,
    "name": "ml.t3.medium",
    "vcpuNum": 2
   },
   {
    "_defaultOrder": 1,
    "_isFastLaunch": false,
    "category": "General purpose",
    "gpuNum": 0,
    "hideHardwareSpecs": false,
    "memoryGiB": 8,
    "name": "ml.t3.large",
    "vcpuNum": 2
   },
   {
    "_defaultOrder": 2,
    "_isFastLaunch": false,
    "category": "General purpose",
    "gpuNum": 0,
    "hideHardwareSpecs": false,
    "memoryGiB": 16,
    "name": "ml.t3.xlarge",
    "vcpuNum": 4
   },
   {
    "_defaultOrder": 3,
    "_isFastLaunch": false,
    "category": "General purpose",
    "gpuNum": 0,
    "hideHardwareSpecs": false,
    "memoryGiB": 32,
    "name": "ml.t3.2xlarge",
    "vcpuNum": 8
   },
   {
    "_defaultOrder": 4,
    "_isFastLaunch": true,
    "category": "General purpose",
    "gpuNum": 0,
    "hideHardwareSpecs": false,
    "memoryGiB": 8,
    "name": "ml.m5.large",
    "vcpuNum": 2
   },
   {
    "_defaultOrder": 5,
    "_isFastLaunch": false,
    "category": "General purpose",
    "gpuNum": 0,
    "hideHardwareSpecs": false,
    "memoryGiB": 16,
    "name": "ml.m5.xlarge",
    "vcpuNum": 4
   },
   {
    "_defaultOrder": 6,
    "_isFastLaunch": false,
    "category": "General purpose",
    "gpuNum": 0,
    "hideHardwareSpecs": false,
    "memoryGiB": 32,
    "name": "ml.m5.2xlarge",
    "vcpuNum": 8
   },
   {
    "_defaultOrder": 7,
    "_isFastLaunch": false,
    "category": "General purpose",
    "gpuNum": 0,
    "hideHardwareSpecs": false,
    "memoryGiB": 64,
    "name": "ml.m5.4xlarge",
    "vcpuNum": 16
   },
   {
    "_defaultOrder": 8,
    "_isFastLaunch": false,
    "category": "General purpose",
    "gpuNum": 0,
    "hideHardwareSpecs": false,
    "memoryGiB": 128,
    "name": "ml.m5.8xlarge",
    "vcpuNum": 32
   },
   {
    "_defaultOrder": 9,
    "_isFastLaunch": false,
    "category": "General purpose",
    "gpuNum": 0,
    "hideHardwareSpecs": false,
    "memoryGiB": 192,
    "name": "ml.m5.12xlarge",
    "vcpuNum": 48
   },
   {
    "_defaultOrder": 10,
    "_isFastLaunch": false,
    "category": "General purpose",
    "gpuNum": 0,
    "hideHardwareSpecs": false,
    "memoryGiB": 256,
    "name": "ml.m5.16xlarge",
    "vcpuNum": 64
   },
   {
    "_defaultOrder": 11,
    "_isFastLaunch": false,
    "category": "General purpose",
    "gpuNum": 0,
    "hideHardwareSpecs": false,
    "memoryGiB": 384,
    "name": "ml.m5.24xlarge",
    "vcpuNum": 96
   },
   {
    "_defaultOrder": 12,
    "_isFastLaunch": false,
    "category": "General purpose",
    "gpuNum": 0,
    "hideHardwareSpecs": false,
    "memoryGiB": 8,
    "name": "ml.m5d.large",
    "vcpuNum": 2
   },
   {
    "_defaultOrder": 13,
    "_isFastLaunch": false,
    "category": "General purpose",
    "gpuNum": 0,
    "hideHardwareSpecs": false,
    "memoryGiB": 16,
    "name": "ml.m5d.xlarge",
    "vcpuNum": 4
   },
   {
    "_defaultOrder": 14,
    "_isFastLaunch": false,
    "category": "General purpose",
    "gpuNum": 0,
    "hideHardwareSpecs": false,
    "memoryGiB": 32,
    "name": "ml.m5d.2xlarge",
    "vcpuNum": 8
   },
   {
    "_defaultOrder": 15,
    "_isFastLaunch": false,
    "category": "General purpose",
    "gpuNum": 0,
    "hideHardwareSpecs": false,
    "memoryGiB": 64,
    "name": "ml.m5d.4xlarge",
    "vcpuNum": 16
   },
   {
    "_defaultOrder": 16,
    "_isFastLaunch": false,
    "category": "General purpose",
    "gpuNum": 0,
    "hideHardwareSpecs": false,
    "memoryGiB": 128,
    "name": "ml.m5d.8xlarge",
    "vcpuNum": 32
   },
   {
    "_defaultOrder": 17,
    "_isFastLaunch": false,
    "category": "General purpose",
    "gpuNum": 0,
    "hideHardwareSpecs": false,
    "memoryGiB": 192,
    "name": "ml.m5d.12xlarge",
    "vcpuNum": 48
   },
   {
    "_defaultOrder": 18,
    "_isFastLaunch": false,
    "category": "General purpose",
    "gpuNum": 0,
    "hideHardwareSpecs": false,
    "memoryGiB": 256,
    "name": "ml.m5d.16xlarge",
    "vcpuNum": 64
   },
   {
    "_defaultOrder": 19,
    "_isFastLaunch": false,
    "category": "General purpose",
    "gpuNum": 0,
    "hideHardwareSpecs": false,
    "memoryGiB": 384,
    "name": "ml.m5d.24xlarge",
    "vcpuNum": 96
   },
   {
    "_defaultOrder": 20,
    "_isFastLaunch": false,
    "category": "General purpose",
    "gpuNum": 0,
    "hideHardwareSpecs": true,
    "memoryGiB": 0,
    "name": "ml.geospatial.interactive",
    "supportedImageNames": [
     "sagemaker-geospatial-v1-0"
    ],
    "vcpuNum": 0
   },
   {
    "_defaultOrder": 21,
    "_isFastLaunch": true,
    "category": "Compute optimized",
    "gpuNum": 0,
    "hideHardwareSpecs": false,
    "memoryGiB": 4,
    "name": "ml.c5.large",
    "vcpuNum": 2
   },
   {
    "_defaultOrder": 22,
    "_isFastLaunch": false,
    "category": "Compute optimized",
    "gpuNum": 0,
    "hideHardwareSpecs": false,
    "memoryGiB": 8,
    "name": "ml.c5.xlarge",
    "vcpuNum": 4
   },
   {
    "_defaultOrder": 23,
    "_isFastLaunch": false,
    "category": "Compute optimized",
    "gpuNum": 0,
    "hideHardwareSpecs": false,
    "memoryGiB": 16,
    "name": "ml.c5.2xlarge",
    "vcpuNum": 8
   },
   {
    "_defaultOrder": 24,
    "_isFastLaunch": false,
    "category": "Compute optimized",
    "gpuNum": 0,
    "hideHardwareSpecs": false,
    "memoryGiB": 32,
    "name": "ml.c5.4xlarge",
    "vcpuNum": 16
   },
   {
    "_defaultOrder": 25,
    "_isFastLaunch": false,
    "category": "Compute optimized",
    "gpuNum": 0,
    "hideHardwareSpecs": false,
    "memoryGiB": 72,
    "name": "ml.c5.9xlarge",
    "vcpuNum": 36
   },
   {
    "_defaultOrder": 26,
    "_isFastLaunch": false,
    "category": "Compute optimized",
    "gpuNum": 0,
    "hideHardwareSpecs": false,
    "memoryGiB": 96,
    "name": "ml.c5.12xlarge",
    "vcpuNum": 48
   },
   {
    "_defaultOrder": 27,
    "_isFastLaunch": false,
    "category": "Compute optimized",
    "gpuNum": 0,
    "hideHardwareSpecs": false,
    "memoryGiB": 144,
    "name": "ml.c5.18xlarge",
    "vcpuNum": 72
   },
   {
    "_defaultOrder": 28,
    "_isFastLaunch": false,
    "category": "Compute optimized",
    "gpuNum": 0,
    "hideHardwareSpecs": false,
    "memoryGiB": 192,
    "name": "ml.c5.24xlarge",
    "vcpuNum": 96
   },
   {
    "_defaultOrder": 29,
    "_isFastLaunch": true,
    "category": "Accelerated computing",
    "gpuNum": 1,
    "hideHardwareSpecs": false,
    "memoryGiB": 16,
    "name": "ml.g4dn.xlarge",
    "vcpuNum": 4
   },
   {
    "_defaultOrder": 30,
    "_isFastLaunch": false,
    "category": "Accelerated computing",
    "gpuNum": 1,
    "hideHardwareSpecs": false,
    "memoryGiB": 32,
    "name": "ml.g4dn.2xlarge",
    "vcpuNum": 8
   },
   {
    "_defaultOrder": 31,
    "_isFastLaunch": false,
    "category": "Accelerated computing",
    "gpuNum": 1,
    "hideHardwareSpecs": false,
    "memoryGiB": 64,
    "name": "ml.g4dn.4xlarge",
    "vcpuNum": 16
   },
   {
    "_defaultOrder": 32,
    "_isFastLaunch": false,
    "category": "Accelerated computing",
    "gpuNum": 1,
    "hideHardwareSpecs": false,
    "memoryGiB": 128,
    "name": "ml.g4dn.8xlarge",
    "vcpuNum": 32
   },
   {
    "_defaultOrder": 33,
    "_isFastLaunch": false,
    "category": "Accelerated computing",
    "gpuNum": 4,
    "hideHardwareSpecs": false,
    "memoryGiB": 192,
    "name": "ml.g4dn.12xlarge",
    "vcpuNum": 48
   },
   {
    "_defaultOrder": 34,
    "_isFastLaunch": false,
    "category": "Accelerated computing",
    "gpuNum": 1,
    "hideHardwareSpecs": false,
    "memoryGiB": 256,
    "name": "ml.g4dn.16xlarge",
    "vcpuNum": 64
   },
   {
    "_defaultOrder": 35,
    "_isFastLaunch": false,
    "category": "Accelerated computing",
    "gpuNum": 1,
    "hideHardwareSpecs": false,
    "memoryGiB": 61,
    "name": "ml.p3.2xlarge",
    "vcpuNum": 8
   },
   {
    "_defaultOrder": 36,
    "_isFastLaunch": false,
    "category": "Accelerated computing",
    "gpuNum": 4,
    "hideHardwareSpecs": false,
    "memoryGiB": 244,
    "name": "ml.p3.8xlarge",
    "vcpuNum": 32
   },
   {
    "_defaultOrder": 37,
    "_isFastLaunch": false,
    "category": "Accelerated computing",
    "gpuNum": 8,
    "hideHardwareSpecs": false,
    "memoryGiB": 488,
    "name": "ml.p3.16xlarge",
    "vcpuNum": 64
   },
   {
    "_defaultOrder": 38,
    "_isFastLaunch": false,
    "category": "Accelerated computing",
    "gpuNum": 8,
    "hideHardwareSpecs": false,
    "memoryGiB": 768,
    "name": "ml.p3dn.24xlarge",
    "vcpuNum": 96
   },
   {
    "_defaultOrder": 39,
    "_isFastLaunch": false,
    "category": "Memory Optimized",
    "gpuNum": 0,
    "hideHardwareSpecs": false,
    "memoryGiB": 16,
    "name": "ml.r5.large",
    "vcpuNum": 2
   },
   {
    "_defaultOrder": 40,
    "_isFastLaunch": false,
    "category": "Memory Optimized",
    "gpuNum": 0,
    "hideHardwareSpecs": false,
    "memoryGiB": 32,
    "name": "ml.r5.xlarge",
    "vcpuNum": 4
   },
   {
    "_defaultOrder": 41,
    "_isFastLaunch": false,
    "category": "Memory Optimized",
    "gpuNum": 0,
    "hideHardwareSpecs": false,
    "memoryGiB": 64,
    "name": "ml.r5.2xlarge",
    "vcpuNum": 8
   },
   {
    "_defaultOrder": 42,
    "_isFastLaunch": false,
    "category": "Memory Optimized",
    "gpuNum": 0,
    "hideHardwareSpecs": false,
    "memoryGiB": 128,
    "name": "ml.r5.4xlarge",
    "vcpuNum": 16
   },
   {
    "_defaultOrder": 43,
    "_isFastLaunch": false,
    "category": "Memory Optimized",
    "gpuNum": 0,
    "hideHardwareSpecs": false,
    "memoryGiB": 256,
    "name": "ml.r5.8xlarge",
    "vcpuNum": 32
   },
   {
    "_defaultOrder": 44,
    "_isFastLaunch": false,
    "category": "Memory Optimized",
    "gpuNum": 0,
    "hideHardwareSpecs": false,
    "memoryGiB": 384,
    "name": "ml.r5.12xlarge",
    "vcpuNum": 48
   },
   {
    "_defaultOrder": 45,
    "_isFastLaunch": false,
    "category": "Memory Optimized",
    "gpuNum": 0,
    "hideHardwareSpecs": false,
    "memoryGiB": 512,
    "name": "ml.r5.16xlarge",
    "vcpuNum": 64
   },
   {
    "_defaultOrder": 46,
    "_isFastLaunch": false,
    "category": "Memory Optimized",
    "gpuNum": 0,
    "hideHardwareSpecs": false,
    "memoryGiB": 768,
    "name": "ml.r5.24xlarge",
    "vcpuNum": 96
   },
   {
    "_defaultOrder": 47,
    "_isFastLaunch": false,
    "category": "Accelerated computing",
    "gpuNum": 1,
    "hideHardwareSpecs": false,
    "memoryGiB": 16,
    "name": "ml.g5.xlarge",
    "vcpuNum": 4
   },
   {
    "_defaultOrder": 48,
    "_isFastLaunch": false,
    "category": "Accelerated computing",
    "gpuNum": 1,
    "hideHardwareSpecs": false,
    "memoryGiB": 32,
    "name": "ml.g5.2xlarge",
    "vcpuNum": 8
   },
   {
    "_defaultOrder": 49,
    "_isFastLaunch": false,
    "category": "Accelerated computing",
    "gpuNum": 1,
    "hideHardwareSpecs": false,
    "memoryGiB": 64,
    "name": "ml.g5.4xlarge",
    "vcpuNum": 16
   },
   {
    "_defaultOrder": 50,
    "_isFastLaunch": false,
    "category": "Accelerated computing",
    "gpuNum": 1,
    "hideHardwareSpecs": false,
    "memoryGiB": 128,
    "name": "ml.g5.8xlarge",
    "vcpuNum": 32
   },
   {
    "_defaultOrder": 51,
    "_isFastLaunch": false,
    "category": "Accelerated computing",
    "gpuNum": 1,
    "hideHardwareSpecs": false,
    "memoryGiB": 256,
    "name": "ml.g5.16xlarge",
    "vcpuNum": 64
   },
   {
    "_defaultOrder": 52,
    "_isFastLaunch": false,
    "category": "Accelerated computing",
    "gpuNum": 4,
    "hideHardwareSpecs": false,
    "memoryGiB": 192,
    "name": "ml.g5.12xlarge",
    "vcpuNum": 48
   },
   {
    "_defaultOrder": 53,
    "_isFastLaunch": false,
    "category": "Accelerated computing",
    "gpuNum": 4,
    "hideHardwareSpecs": false,
    "memoryGiB": 384,
    "name": "ml.g5.24xlarge",
    "vcpuNum": 96
   },
   {
    "_defaultOrder": 54,
    "_isFastLaunch": false,
    "category": "Accelerated computing",
    "gpuNum": 8,
    "hideHardwareSpecs": false,
    "memoryGiB": 768,
    "name": "ml.g5.48xlarge",
    "vcpuNum": 192
   }
  ],
  "forced_instance_type": "ml.t3.medium",
  "forced_lcc_arn": "",
  "instance_type": "ml.t3.medium",
  "kernelspec": {
   "display_name": "Python 3 (Data Science)",
   "language": "python",
   "name": "python3__SAGEMAKER_INTERNAL__arn:aws:sagemaker:us-west-2:236514542706:image/datascience-1.0"
  },
  "language_info": {
   "codemirror_mode": {
    "name": "ipython",
    "version": 3
   },
   "file_extension": ".py",
   "mimetype": "text/x-python",
   "name": "python",
   "nbconvert_exporter": "python",
   "pygments_lexer": "ipython3",
   "version": "3.7.10"
  }
 },
 "nbformat": 4,
 "nbformat_minor": 5
}
